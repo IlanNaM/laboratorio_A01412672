{
 "cells": [
  {
   "cell_type": "markdown",
   "metadata": {},
   "source": [
    "# **Análisis de la Tasa de Diabetes**"
   ]
  },
  {
   "cell_type": "code",
   "execution_count": 2,
   "metadata": {
    "id": "Xhds4njPKC_u"
   },
   "outputs": [],
   "source": [
    "# Preparación para lectura del archivo.\n",
    "import pandas as pd\n",
    "import matplotlib.pyplot as plt\n",
    "\n",
    "diabetes = pd.read_csv(\"diabetes.csv\")\n"
   ]
  },
  {
   "cell_type": "code",
   "execution_count": 7,
   "metadata": {},
   "outputs": [
    {
     "data": {
      "text/html": [
       "<div>\n",
       "<style scoped>\n",
       "    .dataframe tbody tr th:only-of-type {\n",
       "        vertical-align: middle;\n",
       "    }\n",
       "\n",
       "    .dataframe tbody tr th {\n",
       "        vertical-align: top;\n",
       "    }\n",
       "\n",
       "    .dataframe thead th {\n",
       "        text-align: right;\n",
       "    }\n",
       "</style>\n",
       "<table border=\"1\" class=\"dataframe\">\n",
       "  <thead>\n",
       "    <tr style=\"text-align: right;\">\n",
       "      <th></th>\n",
       "      <th>Pregnancies</th>\n",
       "      <th>Glucose</th>\n",
       "      <th>BloodPressure</th>\n",
       "      <th>SkinThickness</th>\n",
       "      <th>Insulin</th>\n",
       "      <th>BMI</th>\n",
       "      <th>DiabetesPedigreeFunction</th>\n",
       "      <th>Age</th>\n",
       "      <th>Outcome</th>\n",
       "    </tr>\n",
       "  </thead>\n",
       "  <tbody>\n",
       "    <tr>\n",
       "      <th>0</th>\n",
       "      <td>6</td>\n",
       "      <td>148</td>\n",
       "      <td>72</td>\n",
       "      <td>35</td>\n",
       "      <td>0</td>\n",
       "      <td>33.6</td>\n",
       "      <td>0.627</td>\n",
       "      <td>50</td>\n",
       "      <td>1</td>\n",
       "    </tr>\n",
       "    <tr>\n",
       "      <th>1</th>\n",
       "      <td>1</td>\n",
       "      <td>85</td>\n",
       "      <td>66</td>\n",
       "      <td>29</td>\n",
       "      <td>0</td>\n",
       "      <td>26.6</td>\n",
       "      <td>0.351</td>\n",
       "      <td>31</td>\n",
       "      <td>0</td>\n",
       "    </tr>\n",
       "    <tr>\n",
       "      <th>2</th>\n",
       "      <td>8</td>\n",
       "      <td>183</td>\n",
       "      <td>64</td>\n",
       "      <td>0</td>\n",
       "      <td>0</td>\n",
       "      <td>23.3</td>\n",
       "      <td>0.672</td>\n",
       "      <td>32</td>\n",
       "      <td>1</td>\n",
       "    </tr>\n",
       "    <tr>\n",
       "      <th>3</th>\n",
       "      <td>1</td>\n",
       "      <td>89</td>\n",
       "      <td>66</td>\n",
       "      <td>23</td>\n",
       "      <td>94</td>\n",
       "      <td>28.1</td>\n",
       "      <td>0.167</td>\n",
       "      <td>21</td>\n",
       "      <td>0</td>\n",
       "    </tr>\n",
       "    <tr>\n",
       "      <th>4</th>\n",
       "      <td>0</td>\n",
       "      <td>137</td>\n",
       "      <td>40</td>\n",
       "      <td>35</td>\n",
       "      <td>168</td>\n",
       "      <td>43.1</td>\n",
       "      <td>2.288</td>\n",
       "      <td>33</td>\n",
       "      <td>1</td>\n",
       "    </tr>\n",
       "  </tbody>\n",
       "</table>\n",
       "</div>"
      ],
      "text/plain": [
       "   Pregnancies  Glucose  BloodPressure  SkinThickness  Insulin   BMI  \\\n",
       "0            6      148             72             35        0  33.6   \n",
       "1            1       85             66             29        0  26.6   \n",
       "2            8      183             64              0        0  23.3   \n",
       "3            1       89             66             23       94  28.1   \n",
       "4            0      137             40             35      168  43.1   \n",
       "\n",
       "   DiabetesPedigreeFunction  Age  Outcome  \n",
       "0                     0.627   50        1  \n",
       "1                     0.351   31        0  \n",
       "2                     0.672   32        1  \n",
       "3                     0.167   21        0  \n",
       "4                     2.288   33        1  "
      ]
     },
     "execution_count": 7,
     "metadata": {},
     "output_type": "execute_result"
    }
   ],
   "source": [
    "diabetes.head()"
   ]
  },
  {
   "cell_type": "markdown",
   "metadata": {},
   "source": [
    "## Análisis de Variables\n",
    "A continuación, se analizará el comportamiento de las variables \"**BloodPressure**\" y \"**SkinThickness**\"..."
   ]
  },
  {
   "cell_type": "markdown",
   "metadata": {},
   "source": [
    "### Presión de la Sangre"
   ]
  },
  {
   "cell_type": "code",
   "execution_count": 13,
   "metadata": {},
   "outputs": [
    {
     "name": "stdout",
     "output_type": "stream",
     "text": [
      "<class 'pandas.core.series.Series'>\n",
      "RangeIndex: 768 entries, 0 to 767\n",
      "Series name: BloodPressure\n",
      "Non-Null Count  Dtype\n",
      "--------------  -----\n",
      "768 non-null    int64\n",
      "dtypes: int64(1)\n",
      "memory usage: 6.1 KB\n",
      "\n",
      "DATOS IMPORTANTES ---> (mmHg)\n",
      "    Promedio: 69.1055\n",
      "    Mediana : 72.0\n",
      "    Desv.   : 19.3558\n",
      "\n"
     ]
    }
   ],
   "source": [
    "presion_sangre = diabetes[\"BloodPressure\"]\n",
    "presion_sangre.info()\n",
    "\n",
    "promedio_ps   = presion_sangre.mean()\n",
    "mediana_ps    = presion_sangre.median()\n",
    "desviacion_ps = presion_sangre.std()\n",
    "\n",
    "print(f\"\"\"\n",
    "DATOS IMPORTANTES ---> (mmHg)\n",
    "    Promedio: {promedio_ps.round(4)}\n",
    "    Mediana : {mediana_ps}\n",
    "    Desv.   : {desviacion_ps.round(4)}\n",
    "\"\"\")"
   ]
  },
  {
   "cell_type": "code",
   "execution_count": 30,
   "metadata": {},
   "outputs": [
    {
     "data": {
      "text/plain": [
       "BloodPressure\n",
       "0     35\n",
       "58    21\n",
       "50    13\n",
       "56    12\n",
       "54    11\n",
       "52    11\n",
       "48     5\n",
       "44     4\n",
       "30     2\n",
       "55     2\n",
       "46     2\n",
       "40     1\n",
       "24     1\n",
       "38     1\n",
       "Name: count, dtype: int64"
      ]
     },
     "execution_count": 30,
     "metadata": {},
     "output_type": "execute_result"
    }
   ],
   "source": [
    "# Calcular la cantidad de personas hipotensas (x < 60 mmHg)\n",
    "hipotensos = presion_sangre[presion_sangre < 60]\n",
    "hipotensos.value_counts()"
   ]
  },
  {
   "cell_type": "code",
   "execution_count": 37,
   "metadata": {},
   "outputs": [
    {
     "data": {
      "text/plain": [
       "BloodPressure\n",
       "122    1\n",
       "Name: count, dtype: int64"
      ]
     },
     "execution_count": 37,
     "metadata": {},
     "output_type": "execute_result"
    }
   ],
   "source": [
    "# Calcular la cantidad de personas hipertensas/elevadas (x > 120 mmHg)\n",
    "hipertensos = presion_sangre[presion_sangre > 120]\n",
    "hipertensos.value_counts()"
   ]
  },
  {
   "cell_type": "code",
   "execution_count": 23,
   "metadata": {},
   "outputs": [
    {
     "data": {
      "image/png": "[encoded data removed]",
      "text/plain": [
       "<Figure size 640x480 with 1 Axes>"
      ]
     },
     "metadata": {},
     "output_type": "display_data"
    }
   ],
   "source": [
    "fig, ax = plt.subplots()\n",
    "n, bins, patches = ax.hist(presion_sangre, facecolor=\"red\", edgecolor=\"black\", linewidth=1)\n",
    "\n",
    "ax.set_xlabel(\"Presión Arterial (mmHg)\")\n",
    "ax.set_ylabel(\"Cantidad\")\n",
    "\n",
    "plt.title(\"Histograma: Presión de la Sangre\")\n",
    "plt.grid(alpha=0.2); plt.show()"
   ]
  },
  {
   "cell_type": "markdown",
   "metadata": {},
   "source": [
    "### Grosor de la Piel"
   ]
  },
  {
   "cell_type": "code",
   "execution_count": 38,
   "metadata": {},
   "outputs": [
    {
     "name": "stdout",
     "output_type": "stream",
     "text": [
      "<class 'pandas.core.series.Series'>\n",
      "RangeIndex: 768 entries, 0 to 767\n",
      "Series name: SkinThickness\n",
      "Non-Null Count  Dtype\n",
      "--------------  -----\n",
      "768 non-null    int64\n",
      "dtypes: int64(1)\n",
      "memory usage: 6.1 KB\n",
      "\n",
      "DATOS IMPORTANTES ---> (mmHg)\n",
      "    Promedio: 20.5365\n",
      "    Mediana : 23.0\n",
      "    Desv.   : 15.9522\n",
      "\n"
     ]
    }
   ],
   "source": [
    "grosor_piel = diabetes[\"SkinThickness\"]\n",
    "grosor_piel.info()\n",
    "\n",
    "promedio_gp   = grosor_piel.mean()\n",
    "mediana_gp    = grosor_piel.median()\n",
    "desviacion_gp = grosor_piel.std()\n",
    "\n",
    "print(f\"\"\"\n",
    "DATOS IMPORTANTES ---> (mmHg)\n",
    "    Promedio: {promedio_gp.round(4)}\n",
    "    Mediana : {mediana_gp}\n",
    "    Desv.   : {desviacion_gp.round(4)}\n",
    "\"\"\")"
   ]
  },
  {
   "cell_type": "code",
   "execution_count": 39,
   "metadata": {},
   "outputs": [
    {
     "data": {
      "image/png": "[encoded data removed]",
      "text/plain": [
       "<Figure size 640x480 with 1 Axes>"
      ]
     },
     "metadata": {},
     "output_type": "display_data"
    }
   ],
   "source": [
    "fig, ax = plt.subplots()\n",
    "n, bins, patches = ax.hist(grosor_piel, facecolor=\"yellow\", edgecolor=\"black\", linewidth=1)\n",
    "\n",
    "ax.set_xlabel(\"Grosor Piel (mm)\")\n",
    "ax.set_ylabel(\"Cantidad\")\n",
    "\n",
    "plt.title(\"Histograma: Grosor de la Piel\")\n",
    "plt.grid(alpha=0.2); plt.show()"
   ]
  },
  {
   "cell_type": "code",
   "execution_count": null,
   "metadata": {},
   "outputs": [],
   "source": []
  }
 ],
 "metadata": {
  "colab": {
   "provenance": []
  },
  "kernelspec": {
   "display_name": "Python 3 (ipykernel)",
   "language": "python",
   "name": "python3"
  },
  "language_info": {
   "codemirror_mode": {
    "name": "ipython",
    "version": 3
   },
   "file_extension": ".py",
   "mimetype": "text/x-python",
   "name": "python",
   "nbconvert_exporter": "python",
   "pygments_lexer": "ipython3",
   "version": "3.10.12"
  }
 },
 "nbformat": 4,
 "nbformat_minor": 4
}
